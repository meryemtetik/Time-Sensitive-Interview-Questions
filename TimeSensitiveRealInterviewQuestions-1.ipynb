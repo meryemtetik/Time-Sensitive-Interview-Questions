{
 "cells": [
  {
   "cell_type": "markdown",
   "id": "55356fdc",
   "metadata": {},
   "source": [
    "# Time Sensitive Real Interview Questions-1"
   ]
  },
  {
   "cell_type": "markdown",
   "id": "a9d9f18a",
   "metadata": {},
   "source": [
    "1. How many rows in the sales dataset?(Just write the numbers in the format of 000.000)\n",
    "\n",
    "2. How many columns in the sales dataset?(Just write the numbers)\n",
    "\n",
    "3. What is the total number of sellers?(Just write the numbers in the format of 000.000)\n",
    "\n",
    "4. What is the total value of sales in EUR?(Just write the numbers in the format of 0.000.000 )\n",
    "\n",
    "5. Which brand has the highest number of purchases during the period?(Just write down the brand as in the dataset, your answer is supposed to be case sensitive)\n",
    "\n",
    "6. How many items in the “Jewellery” category have no brand associated with them?(Just write the numbers in the format of 00.000)\n",
    "\n",
    "7. How many brands have between 35 and 55 transactions (inclusive)?(Just write the numbers)\n",
    "\n",
    "8. How many pairs of shoes were purchased by Australian (AU) buyers?(Just write the the numbers)\n",
    "\n",
    "9. Which brand has the highest average transaction value? (Just write down the brand as in the dataset, your answer is supposed to be case sensitive)\n",
    "\n",
    "10. What is the total value of items purchased by GB buyers from GB sellers? (Just write the numbers in the format of 0.000.000 )\n",
    "\n",
    "11. What percentage of US sellers' transactions were purchased by US buyers? (Just write the percentage in the format of 00.00%)"
   ]
  },
  {
   "cell_type": "code",
   "execution_count": null,
   "id": "efbebfff",
   "metadata": {},
   "outputs": [],
   "source": []
  }
 ],
 "metadata": {
  "kernelspec": {
   "display_name": "Python 3 (ipykernel)",
   "language": "python",
   "name": "python3"
  },
  "language_info": {
   "codemirror_mode": {
    "name": "ipython",
    "version": 3
   },
   "file_extension": ".py",
   "mimetype": "text/x-python",
   "name": "python",
   "nbconvert_exporter": "python",
   "pygments_lexer": "ipython3",
   "version": "3.9.7"
  }
 },
 "nbformat": 4,
 "nbformat_minor": 5
}
